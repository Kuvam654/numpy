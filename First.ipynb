{
 "cells": [
  {
   "cell_type": "markdown",
   "id": "ebb96dfb-b364-4d59-9989-6e6ce6511af4",
   "metadata": {},
   "source": [
    "#Numpy Tutorial"
   ]
  },
  {
   "cell_type": "code",
   "execution_count": 1,
   "id": "8323a506-cb48-4d4b-b9cf-ce0d8ac73321",
   "metadata": {},
   "outputs": [],
   "source": [
    "import numpy as np"
   ]
  },
  {
   "cell_type": "markdown",
   "id": "c331b542-9dbf-4eef-b0b2-f7b4020602b5",
   "metadata": {},
   "source": [
    "# 1. declaring a numpy array"
   ]
  },
  {
   "cell_type": "code",
   "execution_count": 2,
   "id": "a19b07c4-e8b1-483e-9df8-e7e7c03fa8ee",
   "metadata": {},
   "outputs": [],
   "source": [
    "arr1 = np.array([1,2,3,4]) #easiest way to declare a numpy array."
   ]
  },
  {
   "cell_type": "code",
   "execution_count": 3,
   "id": "184bf4ae-de98-4424-bbd4-e9cb65a2b2dc",
   "metadata": {},
   "outputs": [
    {
     "name": "stdout",
     "output_type": "stream",
     "text": [
      "[1 2 3 4]\n"
     ]
    }
   ],
   "source": [
    "print(arr1)"
   ]
  },
  {
   "cell_type": "markdown",
   "id": "d85ca3c1-cce0-4d1e-b8f5-d2b28bfaf8ca",
   "metadata": {},
   "source": [
    "# 2. arr.shape"
   ]
  },
  {
   "cell_type": "code",
   "execution_count": 6,
   "id": "c22dfedd-6fc1-44e2-817b-9b3234e49762",
   "metadata": {},
   "outputs": [
    {
     "data": {
      "text/plain": [
       "(4,)"
      ]
     },
     "execution_count": 6,
     "metadata": {},
     "output_type": "execute_result"
    }
   ],
   "source": [
    "arr1.shape #it returns the following (no of rows, no of columns)"
   ]
  },
  {
   "cell_type": "markdown",
   "id": "3b76e51c-3060-4633-a15d-db6e66d27fdd",
   "metadata": {},
   "source": [
    "# 3. arr.dtype"
   ]
  },
  {
   "cell_type": "code",
   "execution_count": 7,
   "id": "4ef92790-db76-43f2-9475-1f3cede0dce2",
   "metadata": {},
   "outputs": [
    {
     "data": {
      "text/plain": [
       "dtype('int64')"
      ]
     },
     "execution_count": 7,
     "metadata": {},
     "output_type": "execute_result"
    }
   ],
   "source": [
    "arr1.dtype"
   ]
  },
  {
   "cell_type": "markdown",
   "id": "2860395d-684c-4d36-a586-52de3056fe1a",
   "metadata": {},
   "source": [
    "# Array Creation : Conversion from other Python Structures"
   ]
  },
  {
   "cell_type": "code",
   "execution_count": 11,
   "id": "66728550-c348-47f4-8abc-09e46887430f",
   "metadata": {},
   "outputs": [],
   "source": [
    "listarray = np.array([[1,2,3], [4,5,6], [7,8,9]]) #conversion from array"
   ]
  },
  {
   "cell_type": "code",
   "execution_count": 10,
   "id": "98eda88a-1853-4635-b4dd-4e8695992b2a",
   "metadata": {},
   "outputs": [
    {
     "name": "stdout",
     "output_type": "stream",
     "text": [
      "[[1 2 3]\n",
      " [4 5 6]\n",
      " [7 8 9]]\n"
     ]
    }
   ],
   "source": [
    "print(listarray)"
   ]
  },
  {
   "cell_type": "markdown",
   "id": "ea8b22c9-6d64-458d-9806-05c3d1111ce5",
   "metadata": {},
   "source": [
    "# Array Creation : Making a list of length \"n\" with all elements = 0"
   ]
  },
  {
   "cell_type": "code",
   "execution_count": 17,
   "id": "c84003cd-5955-469a-bcff-72d18734d744",
   "metadata": {},
   "outputs": [],
   "source": [
    "listarray = np.zeros((2,5)) #array with 2 sub array containing 5 elements each."
   ]
  },
  {
   "cell_type": "code",
   "execution_count": 18,
   "id": "cdedbe9a-4cfd-4d66-beae-70a3e66a1d3b",
   "metadata": {},
   "outputs": [
    {
     "name": "stdout",
     "output_type": "stream",
     "text": [
      "[[0. 0. 0. 0. 0.]\n",
      " [0. 0. 0. 0. 0.]]\n"
     ]
    }
   ],
   "source": [
    "print(listarray)"
   ]
  },
  {
   "cell_type": "markdown",
   "id": "1d45db95-b916-405a-a6dc-a56b315c0365",
   "metadata": {},
   "source": [
    "# Array Creation : Creates an array from 0 to \"n-1\""
   ]
  },
  {
   "cell_type": "code",
   "execution_count": 15,
   "id": "6b6ffd1d-1e7f-4d0a-b397-4b2adf35e4cf",
   "metadata": {},
   "outputs": [],
   "source": [
    "newarray = np.arange(15)"
   ]
  },
  {
   "cell_type": "code",
   "execution_count": 16,
   "id": "e6e6fe23-16a8-44a5-b8c7-aecdb8b0daed",
   "metadata": {},
   "outputs": [
    {
     "name": "stdout",
     "output_type": "stream",
     "text": [
      "[ 0  1  2  3  4  5  6  7  8  9 10 11 12 13 14]\n"
     ]
    }
   ],
   "source": [
    "print(newarray)"
   ]
  },
  {
   "cell_type": "markdown",
   "id": "a6fb1586-07d3-4ff5-9bb3-cd0c04c34d63",
   "metadata": {},
   "source": [
    "# Array Creation : Creates an array from i to j with equal spaces between numbers and gives k numbers."
   ]
  },
  {
   "cell_type": "code",
   "execution_count": 21,
   "id": "41efb13c-19f8-4814-9b56-b0361e280a46",
   "metadata": {},
   "outputs": [],
   "source": [
    "newarray1 = np.linspace(1,2,12) #i = 1, j = 2, k = 12"
   ]
  },
  {
   "cell_type": "code",
   "execution_count": 22,
   "id": "aefe7b78-59bf-42be-bf58-3bdac6983ed5",
   "metadata": {},
   "outputs": [
    {
     "name": "stdout",
     "output_type": "stream",
     "text": [
      "[1.         1.09090909 1.18181818 1.27272727 1.36363636 1.45454545\n",
      " 1.54545455 1.63636364 1.72727273 1.81818182 1.90909091 2.        ]\n"
     ]
    }
   ],
   "source": [
    "print(newarray1)"
   ]
  },
  {
   "cell_type": "markdown",
   "id": "349f4910-56f8-4236-a436-fcacf767f3be",
   "metadata": {},
   "source": [
    "# Array Creation : Creates an array with random elements"
   ]
  },
  {
   "cell_type": "code",
   "execution_count": 23,
   "id": "b0f28325-7489-4dc4-968a-541ed12c0be9",
   "metadata": {},
   "outputs": [],
   "source": [
    "newarray2 = np.empty([4,6]) #creates an array with 4 sub arrays with 6 elements each"
   ]
  },
  {
   "cell_type": "code",
   "execution_count": 24,
   "id": "13c2d8aa-9df8-40b4-937b-56832c8e585c",
   "metadata": {},
   "outputs": [
    {
     "name": "stdout",
     "output_type": "stream",
     "text": [
      "[[6.95229613e-310 6.95229611e-310 0.00000000e+000 5.00791007e-312\n",
      "  1.22075699e-311 4.94065646e-324]\n",
      " [0.00000000e+000 0.00000000e+000 4.04738577e-320 0.00000000e+000\n",
      "  1.23022346e-321 1.22079578e-311]\n",
      " [3.56043054e-307 1.37961641e-306 0.00000000e+000 1.22079579e-311\n",
      "  1.78020169e-306 7.56601165e-307]\n",
      " [1.02359984e-306 4.99006302e-322 2.22522597e-306 8.01097889e-307\n",
      "  2.22522597e-306             nan]]\n"
     ]
    }
   ],
   "source": [
    "print(newarray2)"
   ]
  },
  {
   "cell_type": "markdown",
   "id": "95539e57-7da8-4ea8-8748-f53f366eafa2",
   "metadata": {},
   "source": [
    "# Array Creation : Creates an empty array with size of passed array."
   ]
  },
  {
   "cell_type": "code",
   "execution_count": 25,
   "id": "06e2d93f-730a-41c6-ad40-8aa9b0666155",
   "metadata": {},
   "outputs": [],
   "source": [
    "newarray3 = np.empty_like(newarray2)"
   ]
  },
  {
   "cell_type": "code",
   "execution_count": 26,
   "id": "7ac8f126-713c-4581-b479-e044d8500bdc",
   "metadata": {},
   "outputs": [
    {
     "name": "stdout",
     "output_type": "stream",
     "text": [
      "[[6.95229613e-310 6.95229611e-310 0.00000000e+000 5.00791007e-312\n",
      "  1.22075699e-311 4.94065646e-324]\n",
      " [0.00000000e+000 0.00000000e+000 4.04738577e-320 0.00000000e+000\n",
      "  1.23022346e-321 1.22080115e-311]\n",
      " [1.37961641e-306 9.45697982e-308 0.00000000e+000 1.22080115e-311\n",
      "  7.56601165e-307 1.02359984e-306]\n",
      " [1.33510679e-306 5.78056806e-322 8.01097889e-307 1.42419666e-306\n",
      "  6.89810583e-307             nan]]\n"
     ]
    }
   ],
   "source": [
    "print(newarray3)"
   ]
  },
  {
   "cell_type": "markdown",
   "id": "b461ba13-181e-4efd-84b9-b7d9d306a810",
   "metadata": {},
   "source": [
    "# Array Creation : Creating a random array with dimensions = N * N"
   ]
  },
  {
   "cell_type": "code",
   "execution_count": 27,
   "id": "f5c16a19-4e06-4cf0-8f95-41c296117f6b",
   "metadata": {},
   "outputs": [],
   "source": [
    "newarray4 = np.identity(3)"
   ]
  },
  {
   "cell_type": "code",
   "execution_count": 28,
   "id": "cf7bf06c-1a70-4426-9730-e0eef52423bc",
   "metadata": {},
   "outputs": [
    {
     "name": "stdout",
     "output_type": "stream",
     "text": [
      "[[1. 0. 0.]\n",
      " [0. 1. 0.]\n",
      " [0. 0. 1.]]\n"
     ]
    }
   ],
   "source": [
    "print(newarray4)"
   ]
  },
  {
   "cell_type": "markdown",
   "id": "e39840ec-23b0-474f-9526-39e9256ce7b4",
   "metadata": {},
   "source": [
    "# Reshaping the array created from arange"
   ]
  },
  {
   "cell_type": "code",
   "execution_count": 29,
   "id": "db7a4d68-dee3-4001-b029-1330c822ab55",
   "metadata": {},
   "outputs": [],
   "source": [
    "arrnew = np.arange(15)"
   ]
  },
  {
   "cell_type": "code",
   "execution_count": 33,
   "id": "15ec8341-8d54-4c98-8a5e-2d58b8847607",
   "metadata": {},
   "outputs": [],
   "source": [
    "arrnew = arrnew.reshape(3,5)"
   ]
  },
  {
   "cell_type": "code",
   "execution_count": 34,
   "id": "0e02d987-48b0-47d9-bd4f-373652417c04",
   "metadata": {},
   "outputs": [
    {
     "name": "stdout",
     "output_type": "stream",
     "text": [
      "[[ 0  1  2  3  4]\n",
      " [ 5  6  7  8  9]\n",
      " [10 11 12 13 14]]\n"
     ]
    }
   ],
   "source": [
    "print(arrnew)"
   ]
  },
  {
   "cell_type": "markdown",
   "id": "9c28b76f-892f-4d1a-8b18-3869fa573748",
   "metadata": {},
   "source": [
    "# Converting a reshaped array into its original form"
   ]
  },
  {
   "cell_type": "code",
   "execution_count": 41,
   "id": "7ebd019f-58ef-46d2-8cbc-601ea1323f57",
   "metadata": {},
   "outputs": [],
   "source": [
    "arrnew = arrnew.ravel()"
   ]
  },
  {
   "cell_type": "code",
   "execution_count": 42,
   "id": "266a842c-8715-4130-b866-61e79e305fdf",
   "metadata": {},
   "outputs": [
    {
     "name": "stdout",
     "output_type": "stream",
     "text": [
      "[ 0  1  2  3  4  5  6  7  8  9 10 11 12 13 14]\n"
     ]
    }
   ],
   "source": [
    "print(arrnew)"
   ]
  },
  {
   "cell_type": "code",
   "execution_count": null,
   "id": "761fcbc3-b24d-4e69-9184-63739605b922",
   "metadata": {},
   "outputs": [],
   "source": []
  }
 ],
 "metadata": {
  "kernelspec": {
   "display_name": "Python 3 (ipykernel)",
   "language": "python",
   "name": "python3"
  },
  "language_info": {
   "codemirror_mode": {
    "name": "ipython",
    "version": 3
   },
   "file_extension": ".py",
   "mimetype": "text/x-python",
   "name": "python",
   "nbconvert_exporter": "python",
   "pygments_lexer": "ipython3",
   "version": "3.11.4"
  }
 },
 "nbformat": 4,
 "nbformat_minor": 5
}
