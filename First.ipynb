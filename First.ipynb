{
 "cells": [
  {
   "cell_type": "markdown",
   "id": "ebb96dfb-b364-4d59-9989-6e6ce6511af4",
   "metadata": {},
   "source": [
    "#Numpy Tutorial"
   ]
  },
  {
   "cell_type": "code",
   "execution_count": 1,
   "id": "8323a506-cb48-4d4b-b9cf-ce0d8ac73321",
   "metadata": {},
   "outputs": [],
   "source": [
    "import numpy as np"
   ]
  },
  {
   "cell_type": "markdown",
   "id": "c331b542-9dbf-4eef-b0b2-f7b4020602b5",
   "metadata": {},
   "source": [
    "# 1. declaring a numpy array"
   ]
  },
  {
   "cell_type": "code",
   "execution_count": 2,
   "id": "a19b07c4-e8b1-483e-9df8-e7e7c03fa8ee",
   "metadata": {},
   "outputs": [],
   "source": [
    "arr1 = np.array([1,2,3,4]) #easiest way to declare a numpy array."
   ]
  },
  {
   "cell_type": "code",
   "execution_count": 3,
   "id": "184bf4ae-de98-4424-bbd4-e9cb65a2b2dc",
   "metadata": {},
   "outputs": [
    {
     "name": "stdout",
     "output_type": "stream",
     "text": [
      "[1 2 3 4]\n"
     ]
    }
   ],
   "source": [
    "print(arr1)"
   ]
  },
  {
   "cell_type": "markdown",
   "id": "d85ca3c1-cce0-4d1e-b8f5-d2b28bfaf8ca",
   "metadata": {},
   "source": [
    "# 2. arr.shape"
   ]
  },
  {
   "cell_type": "code",
   "execution_count": 6,
   "id": "c22dfedd-6fc1-44e2-817b-9b3234e49762",
   "metadata": {},
   "outputs": [
    {
     "data": {
      "text/plain": [
       "(4,)"
      ]
     },
     "execution_count": 6,
     "metadata": {},
     "output_type": "execute_result"
    }
   ],
   "source": [
    "arr1.shape #it returns the following (no of rows, no of columns)"
   ]
  },
  {
   "cell_type": "markdown",
   "id": "3b76e51c-3060-4633-a15d-db6e66d27fdd",
   "metadata": {},
   "source": [
    "# 3. arr.dtype"
   ]
  },
  {
   "cell_type": "code",
   "execution_count": 7,
   "id": "4ef92790-db76-43f2-9475-1f3cede0dce2",
   "metadata": {},
   "outputs": [
    {
     "data": {
      "text/plain": [
       "dtype('int64')"
      ]
     },
     "execution_count": 7,
     "metadata": {},
     "output_type": "execute_result"
    }
   ],
   "source": [
    "arr1.dtype"
   ]
  },
  {
   "cell_type": "markdown",
   "id": "2860395d-684c-4d36-a586-52de3056fe1a",
   "metadata": {},
   "source": [
    "# Array Creation : Conversion from other Python Structures"
   ]
  },
  {
   "cell_type": "code",
   "execution_count": 11,
   "id": "66728550-c348-47f4-8abc-09e46887430f",
   "metadata": {},
   "outputs": [],
   "source": [
    "listarray = np.array([[1,2,3], [4,5,6], [7,8,9]]) #conversion from array"
   ]
  },
  {
   "cell_type": "code",
   "execution_count": 10,
   "id": "98eda88a-1853-4635-b4dd-4e8695992b2a",
   "metadata": {},
   "outputs": [
    {
     "name": "stdout",
     "output_type": "stream",
     "text": [
      "[[1 2 3]\n",
      " [4 5 6]\n",
      " [7 8 9]]\n"
     ]
    }
   ],
   "source": [
    "print(listarray)"
   ]
  },
  {
   "cell_type": "markdown",
   "id": "ea8b22c9-6d64-458d-9806-05c3d1111ce5",
   "metadata": {},
   "source": [
    "# Array Creation : Making a list of length \"n\" with all elements = 0"
   ]
  },
  {
   "cell_type": "code",
   "execution_count": 17,
   "id": "c84003cd-5955-469a-bcff-72d18734d744",
   "metadata": {},
   "outputs": [],
   "source": [
    "listarray = np.zeros((2,5)) #array with 2 sub array containing 5 elements each."
   ]
  },
  {
   "cell_type": "code",
   "execution_count": 18,
   "id": "cdedbe9a-4cfd-4d66-beae-70a3e66a1d3b",
   "metadata": {},
   "outputs": [
    {
     "name": "stdout",
     "output_type": "stream",
     "text": [
      "[[0. 0. 0. 0. 0.]\n",
      " [0. 0. 0. 0. 0.]]\n"
     ]
    }
   ],
   "source": [
    "print(listarray)"
   ]
  },
  {
   "cell_type": "markdown",
   "id": "1d45db95-b916-405a-a6dc-a56b315c0365",
   "metadata": {},
   "source": [
    "# Array Creation : Creates an array from 0 to \"n-1\""
   ]
  },
  {
   "cell_type": "code",
   "execution_count": 15,
   "id": "6b6ffd1d-1e7f-4d0a-b397-4b2adf35e4cf",
   "metadata": {},
   "outputs": [],
   "source": [
    "newarray = np.arange(15)"
   ]
  },
  {
   "cell_type": "code",
   "execution_count": 16,
   "id": "e6e6fe23-16a8-44a5-b8c7-aecdb8b0daed",
   "metadata": {},
   "outputs": [
    {
     "name": "stdout",
     "output_type": "stream",
     "text": [
      "[ 0  1  2  3  4  5  6  7  8  9 10 11 12 13 14]\n"
     ]
    }
   ],
   "source": [
    "print(newarray)"
   ]
  },
  {
   "cell_type": "markdown",
   "id": "a6fb1586-07d3-4ff5-9bb3-cd0c04c34d63",
   "metadata": {},
   "source": [
    "# Array Creation : Creates an array from i to j with equal spaces between numbers and gives k numbers."
   ]
  },
  {
   "cell_type": "code",
   "execution_count": 21,
   "id": "41efb13c-19f8-4814-9b56-b0361e280a46",
   "metadata": {},
   "outputs": [],
   "source": [
    "newarray1 = np.linspace(1,2,12) #i = 1, j = 2, k = 12"
   ]
  },
  {
   "cell_type": "code",
   "execution_count": 22,
   "id": "aefe7b78-59bf-42be-bf58-3bdac6983ed5",
   "metadata": {},
   "outputs": [
    {
     "name": "stdout",
     "output_type": "stream",
     "text": [
      "[1.         1.09090909 1.18181818 1.27272727 1.36363636 1.45454545\n",
      " 1.54545455 1.63636364 1.72727273 1.81818182 1.90909091 2.        ]\n"
     ]
    }
   ],
   "source": [
    "print(newarray1)"
   ]
  },
  {
   "cell_type": "markdown",
   "id": "349f4910-56f8-4236-a436-fcacf767f3be",
   "metadata": {},
   "source": [
    "# Array Creation : Creates an array with random elements"
   ]
  },
  {
   "cell_type": "code",
   "execution_count": 23,
   "id": "b0f28325-7489-4dc4-968a-541ed12c0be9",
   "metadata": {},
   "outputs": [],
   "source": [
    "newarray2 = np.empty([4,6]) #creates an array with 4 sub arrays with 6 elements each"
   ]
  },
  {
   "cell_type": "code",
   "execution_count": 24,
   "id": "13c2d8aa-9df8-40b4-937b-56832c8e585c",
   "metadata": {},
   "outputs": [
    {
     "name": "stdout",
     "output_type": "stream",
     "text": [
      "[[6.95229613e-310 6.95229611e-310 0.00000000e+000 5.00791007e-312\n",
      "  1.22075699e-311 4.94065646e-324]\n",
      " [0.00000000e+000 0.00000000e+000 4.04738577e-320 0.00000000e+000\n",
      "  1.23022346e-321 1.22079578e-311]\n",
      " [3.56043054e-307 1.37961641e-306 0.00000000e+000 1.22079579e-311\n",
      "  1.78020169e-306 7.56601165e-307]\n",
      " [1.02359984e-306 4.99006302e-322 2.22522597e-306 8.01097889e-307\n",
      "  2.22522597e-306             nan]]\n"
     ]
    }
   ],
   "source": [
    "print(newarray2)"
   ]
  },
  {
   "cell_type": "markdown",
   "id": "95539e57-7da8-4ea8-8748-f53f366eafa2",
   "metadata": {},
   "source": [
    "# Array Creation : Creates an empty array with size of passed array."
   ]
  },
  {
   "cell_type": "code",
   "execution_count": 25,
   "id": "06e2d93f-730a-41c6-ad40-8aa9b0666155",
   "metadata": {},
   "outputs": [],
   "source": [
    "newarray3 = np.empty_like(newarray2)"
   ]
  },
  {
   "cell_type": "code",
   "execution_count": 26,
   "id": "7ac8f126-713c-4581-b479-e044d8500bdc",
   "metadata": {},
   "outputs": [
    {
     "name": "stdout",
     "output_type": "stream",
     "text": [
      "[[6.95229613e-310 6.95229611e-310 0.00000000e+000 5.00791007e-312\n",
      "  1.22075699e-311 4.94065646e-324]\n",
      " [0.00000000e+000 0.00000000e+000 4.04738577e-320 0.00000000e+000\n",
      "  1.23022346e-321 1.22080115e-311]\n",
      " [1.37961641e-306 9.45697982e-308 0.00000000e+000 1.22080115e-311\n",
      "  7.56601165e-307 1.02359984e-306]\n",
      " [1.33510679e-306 5.78056806e-322 8.01097889e-307 1.42419666e-306\n",
      "  6.89810583e-307             nan]]\n"
     ]
    }
   ],
   "source": [
    "print(newarray3)"
   ]
  },
  {
   "cell_type": "markdown",
   "id": "b461ba13-181e-4efd-84b9-b7d9d306a810",
   "metadata": {},
   "source": [
    "# Array Creation : Creating a random array with dimensions = N * N"
   ]
  },
  {
   "cell_type": "code",
   "execution_count": 27,
   "id": "f5c16a19-4e06-4cf0-8f95-41c296117f6b",
   "metadata": {},
   "outputs": [],
   "source": [
    "newarray4 = np.identity(3)"
   ]
  },
  {
   "cell_type": "code",
   "execution_count": 28,
   "id": "cf7bf06c-1a70-4426-9730-e0eef52423bc",
   "metadata": {},
   "outputs": [
    {
     "name": "stdout",
     "output_type": "stream",
     "text": [
      "[[1. 0. 0.]\n",
      " [0. 1. 0.]\n",
      " [0. 0. 1.]]\n"
     ]
    }
   ],
   "source": [
    "print(newarray4)"
   ]
  },
  {
   "cell_type": "markdown",
   "id": "e39840ec-23b0-474f-9526-39e9256ce7b4",
   "metadata": {},
   "source": [
    "# Reshaping the array created from arange"
   ]
  },
  {
   "cell_type": "code",
   "execution_count": 29,
   "id": "db7a4d68-dee3-4001-b029-1330c822ab55",
   "metadata": {},
   "outputs": [],
   "source": [
    "arrnew = np.arange(15)"
   ]
  },
  {
   "cell_type": "code",
   "execution_count": 33,
   "id": "15ec8341-8d54-4c98-8a5e-2d58b8847607",
   "metadata": {},
   "outputs": [],
   "source": [
    "arrnew = arrnew.reshape(3,5)"
   ]
  },
  {
   "cell_type": "code",
   "execution_count": 34,
   "id": "0e02d987-48b0-47d9-bd4f-373652417c04",
   "metadata": {},
   "outputs": [
    {
     "name": "stdout",
     "output_type": "stream",
     "text": [
      "[[ 0  1  2  3  4]\n",
      " [ 5  6  7  8  9]\n",
      " [10 11 12 13 14]]\n"
     ]
    }
   ],
   "source": [
    "print(arrnew)"
   ]
  },
  {
   "cell_type": "markdown",
   "id": "9c28b76f-892f-4d1a-8b18-3869fa573748",
   "metadata": {},
   "source": [
    "# Converting a reshaped array into its original form"
   ]
  },
  {
   "cell_type": "code",
   "execution_count": 41,
   "id": "7ebd019f-58ef-46d2-8cbc-601ea1323f57",
   "metadata": {},
   "outputs": [],
   "source": [
    "arrnew = arrnew.ravel()"
   ]
  },
  {
   "cell_type": "code",
   "execution_count": 42,
   "id": "266a842c-8715-4130-b866-61e79e305fdf",
   "metadata": {},
   "outputs": [
    {
     "name": "stdout",
     "output_type": "stream",
     "text": [
      "[ 0  1  2  3  4  5  6  7  8  9 10 11 12 13 14]\n"
     ]
    }
   ],
   "source": [
    "print(arrnew)"
   ]
  },
  {
   "cell_type": "markdown",
   "id": "f8eafb3c-c7d0-40b7-988e-5112f932b352",
   "metadata": {},
   "source": [
    "# Axis in numpy"
   ]
  },
  {
   "cell_type": "code",
   "execution_count": 44,
   "id": "880e99b8-7e9a-4209-907b-ce375dde30f1",
   "metadata": {},
   "outputs": [],
   "source": [
    "array1 = ([[1,2,3], [4,5,6], [7,8,9]])"
   ]
  },
  {
   "cell_type": "code",
   "execution_count": 45,
   "id": "6f6d1936-e017-4a90-9d2b-d09cf9656d01",
   "metadata": {},
   "outputs": [],
   "source": [
    "ar = np.array(array1)"
   ]
  },
  {
   "cell_type": "code",
   "execution_count": 46,
   "id": "57b33db0-a752-42ff-a90a-a9b177acd5b9",
   "metadata": {},
   "outputs": [
    {
     "name": "stdout",
     "output_type": "stream",
     "text": [
      "[[1 2 3]\n",
      " [4 5 6]\n",
      " [7 8 9]]\n"
     ]
    }
   ],
   "source": [
    "print(ar)"
   ]
  },
  {
   "cell_type": "code",
   "execution_count": 47,
   "id": "1a953bde-d668-4c02-91ba-6d28078bf35e",
   "metadata": {},
   "outputs": [
    {
     "data": {
      "text/plain": [
       "array([12, 15, 18])"
      ]
     },
     "execution_count": 47,
     "metadata": {},
     "output_type": "execute_result"
    }
   ],
   "source": [
    "ar.sum(axis = 0)"
   ]
  },
  {
   "cell_type": "code",
   "execution_count": 48,
   "id": "2b73339a-25d9-4c82-ba81-41eaa422a87a",
   "metadata": {},
   "outputs": [
    {
     "data": {
      "text/plain": [
       "array([ 6, 15, 24])"
      ]
     },
     "execution_count": 48,
     "metadata": {},
     "output_type": "execute_result"
    }
   ],
   "source": [
    "ar.sum(axis = 1)"
   ]
  },
  {
   "cell_type": "markdown",
   "id": "3eef6667-1670-4574-8eae-6bb434b44075",
   "metadata": {},
   "source": [
    "# Transpose of an array"
   ]
  },
  {
   "cell_type": "code",
   "execution_count": 50,
   "id": "cf308f46-433b-4cdc-8c13-8fb6d5cc5b1a",
   "metadata": {},
   "outputs": [
    {
     "data": {
      "text/plain": [
       "array([[1, 4, 7],\n",
       "       [2, 5, 8],\n",
       "       [3, 6, 9]])"
      ]
     },
     "execution_count": 50,
     "metadata": {},
     "output_type": "execute_result"
    }
   ],
   "source": [
    "ar.T #it returns the transpose of an array"
   ]
  },
  {
   "cell_type": "markdown",
   "id": "352b9d8d-49ab-47f6-b158-6fd15d13e249",
   "metadata": {},
   "source": [
    "# Getting all elements of an array"
   ]
  },
  {
   "cell_type": "code",
   "execution_count": 52,
   "id": "590472f3-3a2c-4e69-a5cc-d969ae7c23ce",
   "metadata": {},
   "outputs": [
    {
     "name": "stdout",
     "output_type": "stream",
     "text": [
      "1\n",
      "2\n",
      "3\n",
      "4\n",
      "5\n",
      "6\n",
      "7\n",
      "8\n",
      "9\n"
     ]
    }
   ],
   "source": [
    "for item in ar.flat:\n",
    "    print(item)"
   ]
  },
  {
   "cell_type": "markdown",
   "id": "a75e6dc5-999d-4a4f-b1c6-c59bc329cbf7",
   "metadata": {},
   "source": [
    "# To get number of dimensions"
   ]
  },
  {
   "cell_type": "code",
   "execution_count": 53,
   "id": "e5fa4259-e3ab-4d19-8150-da8909138a89",
   "metadata": {},
   "outputs": [
    {
     "data": {
      "text/plain": [
       "2"
      ]
     },
     "execution_count": 53,
     "metadata": {},
     "output_type": "execute_result"
    }
   ],
   "source": [
    "ar.ndim"
   ]
  },
  {
   "cell_type": "markdown",
   "id": "44ddff21-cbc2-4868-ba42-1e53e7c26645",
   "metadata": {},
   "source": [
    "# To get number of elements in the array"
   ]
  },
  {
   "cell_type": "code",
   "execution_count": 54,
   "id": "46d8cdcc-a09c-4ff0-9d3c-c9112ad50dbd",
   "metadata": {},
   "outputs": [
    {
     "data": {
      "text/plain": [
       "9"
      ]
     },
     "execution_count": 54,
     "metadata": {},
     "output_type": "execute_result"
    }
   ],
   "source": [
    "ar.size"
   ]
  },
  {
   "cell_type": "markdown",
   "id": "470a3a6c-c3cb-41d6-a28f-fed92c833e9b",
   "metadata": {},
   "source": [
    "# To get total space consumed by elements of an array"
   ]
  },
  {
   "cell_type": "code",
   "execution_count": 57,
   "id": "79d0d3cd-ae7a-43c1-a416-fd9d7a4558e2",
   "metadata": {},
   "outputs": [
    {
     "data": {
      "text/plain": [
       "72"
      ]
     },
     "execution_count": 57,
     "metadata": {},
     "output_type": "execute_result"
    }
   ],
   "source": [
    "ar.nbytes"
   ]
  },
  {
   "cell_type": "markdown",
   "id": "5515f18f-0a0e-4d59-a876-2c4a1ea4b63d",
   "metadata": {},
   "source": [
    "# Min, Max, Sorted array index positions"
   ]
  },
  {
   "cell_type": "code",
   "execution_count": 59,
   "id": "681a835a-cf4c-43a8-86d4-dda865c10984",
   "metadata": {},
   "outputs": [],
   "source": [
    "newarr1 = [1,20,12,13,29,111]"
   ]
  },
  {
   "cell_type": "code",
   "execution_count": 60,
   "id": "7b8d5401-f461-4bad-8cd8-0fb6eb6826ee",
   "metadata": {},
   "outputs": [],
   "source": [
    "ar1 = np.array(newarr1)"
   ]
  },
  {
   "cell_type": "code",
   "execution_count": 61,
   "id": "b9bba54d-8ac6-4ba8-ae1a-e1f3abb4c6d2",
   "metadata": {},
   "outputs": [
    {
     "data": {
      "text/plain": [
       "np.int64(5)"
      ]
     },
     "execution_count": 61,
     "metadata": {},
     "output_type": "execute_result"
    }
   ],
   "source": [
    "ar1.argmax()"
   ]
  },
  {
   "cell_type": "code",
   "execution_count": 62,
   "id": "d8bb2c3f-2580-4fcd-9b61-06510113b82c",
   "metadata": {},
   "outputs": [
    {
     "data": {
      "text/plain": [
       "np.int64(0)"
      ]
     },
     "execution_count": 62,
     "metadata": {},
     "output_type": "execute_result"
    }
   ],
   "source": [
    "ar1.argmin()"
   ]
  },
  {
   "cell_type": "code",
   "execution_count": 63,
   "id": "404f6903-4827-42df-ac7c-d032ec280832",
   "metadata": {},
   "outputs": [
    {
     "data": {
      "text/plain": [
       "array([0, 2, 3, 1, 4, 5])"
      ]
     },
     "execution_count": 63,
     "metadata": {},
     "output_type": "execute_result"
    }
   ],
   "source": [
    "ar1.argsort()"
   ]
  },
  {
   "cell_type": "code",
   "execution_count": 64,
   "id": "5717ecae-b626-4210-acc4-bd7096b24147",
   "metadata": {},
   "outputs": [],
   "source": [
    "# for a 2d array"
   ]
  },
  {
   "cell_type": "code",
   "execution_count": 65,
   "id": "cb992a33-36f4-46d2-a929-997a770f7540",
   "metadata": {},
   "outputs": [
    {
     "data": {
      "text/plain": [
       "np.int64(0)"
      ]
     },
     "execution_count": 65,
     "metadata": {},
     "output_type": "execute_result"
    }
   ],
   "source": [
    "ar.argmin()"
   ]
  },
  {
   "cell_type": "code",
   "execution_count": 66,
   "id": "82637348-ca4c-4a1f-bc19-a53adfa9f52c",
   "metadata": {},
   "outputs": [
    {
     "data": {
      "text/plain": [
       "np.int64(8)"
      ]
     },
     "execution_count": 66,
     "metadata": {},
     "output_type": "execute_result"
    }
   ],
   "source": [
    "ar.argmax()"
   ]
  },
  {
   "cell_type": "code",
   "execution_count": 67,
   "id": "72394d1b-e9cd-4e4f-9db4-989f77aeefe0",
   "metadata": {},
   "outputs": [
    {
     "data": {
      "text/plain": [
       "array([2, 2, 2])"
      ]
     },
     "execution_count": 67,
     "metadata": {},
     "output_type": "execute_result"
    }
   ],
   "source": [
    "ar.argmax(axis = 0)"
   ]
  },
  {
   "cell_type": "code",
   "execution_count": 68,
   "id": "869fef9d-eed2-4264-bddf-35c267f6b98c",
   "metadata": {},
   "outputs": [
    {
     "data": {
      "text/plain": [
       "array([0, 0, 0])"
      ]
     },
     "execution_count": 68,
     "metadata": {},
     "output_type": "execute_result"
    }
   ],
   "source": [
    "ar.argmin(axis = 0)"
   ]
  },
  {
   "cell_type": "code",
   "execution_count": 69,
   "id": "274d3268-007a-46a8-ad7e-cbc0c8d3c4b2",
   "metadata": {},
   "outputs": [
    {
     "data": {
      "text/plain": [
       "array([[0, 0, 0],\n",
       "       [1, 1, 1],\n",
       "       [2, 2, 2]])"
      ]
     },
     "execution_count": 69,
     "metadata": {},
     "output_type": "execute_result"
    }
   ],
   "source": [
    "ar.argsort(axis = 0)"
   ]
  },
  {
   "cell_type": "markdown",
   "id": "a2b1d40b-197c-4293-8f34-530dd2abaf3d",
   "metadata": {},
   "source": [
    "# Addition and Multiplication of a matrix"
   ]
  },
  {
   "cell_type": "code",
   "execution_count": 78,
   "id": "eb4d3a0d-1104-4146-9b05-a3d682623e9c",
   "metadata": {},
   "outputs": [],
   "source": [
    "ar01 = ([[0,1,2]]) \n",
    "ar02 = ([[3,4,5]])\n",
    "arrr1 = np.array(ar01)\n",
    "arrr2 = np.array(ar02)"
   ]
  },
  {
   "cell_type": "code",
   "execution_count": 79,
   "id": "3b7ae711-28a3-4621-b36b-b2e4c1b7dc62",
   "metadata": {},
   "outputs": [
    {
     "data": {
      "text/plain": [
       "array([[ 0,  4, 10]])"
      ]
     },
     "execution_count": 79,
     "metadata": {},
     "output_type": "execute_result"
    }
   ],
   "source": [
    "arrr1 * arrr2"
   ]
  },
  {
   "cell_type": "code",
   "execution_count": 80,
   "id": "191bc4b9-9324-4389-9d5c-6728922b677e",
   "metadata": {},
   "outputs": [
    {
     "data": {
      "text/plain": [
       "array([[3, 5, 7]])"
      ]
     },
     "execution_count": 80,
     "metadata": {},
     "output_type": "execute_result"
    }
   ],
   "source": [
    "arrr1 + arrr2"
   ]
  },
  {
   "cell_type": "markdown",
   "id": "75092bdb-983b-4742-b6f6-c1689d9dc9ee",
   "metadata": {},
   "source": [
    "# Square root of all indivisual elements of a matrix"
   ]
  },
  {
   "cell_type": "code",
   "execution_count": 81,
   "id": "092e9474-f99f-4e1b-9711-3ee3f54ee130",
   "metadata": {},
   "outputs": [
    {
     "data": {
      "text/plain": [
       "array([[0.        , 1.        , 1.41421356]])"
      ]
     },
     "execution_count": 81,
     "metadata": {},
     "output_type": "execute_result"
    }
   ],
   "source": [
    "np.sqrt(arrr1)"
   ]
  },
  {
   "cell_type": "markdown",
   "id": "f7bc8de0-3585-471c-b6e4-9759b2451f87",
   "metadata": {},
   "source": [
    "# Misc operations"
   ]
  },
  {
   "cell_type": "code",
   "execution_count": 85,
   "id": "7a20f240-bcba-4113-a06c-7b799badd88c",
   "metadata": {},
   "outputs": [
    {
     "data": {
      "text/plain": [
       "np.int64(3)"
      ]
     },
     "execution_count": 85,
     "metadata": {},
     "output_type": "execute_result"
    }
   ],
   "source": [
    "arrr1.sum()"
   ]
  },
  {
   "cell_type": "code",
   "execution_count": 88,
   "id": "76896acc-df40-4a60-a1ed-d60bef81516d",
   "metadata": {},
   "outputs": [
    {
     "data": {
      "text/plain": [
       "(array([0]), array([2]))"
      ]
     },
     "execution_count": 88,
     "metadata": {},
     "output_type": "execute_result"
    }
   ],
   "source": [
    "np.where(arrr1>1)"
   ]
  },
  {
   "cell_type": "code",
   "execution_count": 90,
   "id": "5bfaa069-11bc-4e0f-96d1-1fe182337071",
   "metadata": {},
   "outputs": [
    {
     "data": {
      "text/plain": [
       "2"
      ]
     },
     "execution_count": 90,
     "metadata": {},
     "output_type": "execute_result"
    }
   ],
   "source": [
    "np.count_nonzero(arrr1) #counts non zero elements of an array"
   ]
  },
  {
   "cell_type": "code",
   "execution_count": null,
   "id": "01ad36fb-ed92-4cb7-828d-0a2c04d01059",
   "metadata": {},
   "outputs": [],
   "source": []
  }
 ],
 "metadata": {
  "kernelspec": {
   "display_name": "Python 3 (ipykernel)",
   "language": "python",
   "name": "python3"
  },
  "language_info": {
   "codemirror_mode": {
    "name": "ipython",
    "version": 3
   },
   "file_extension": ".py",
   "mimetype": "text/x-python",
   "name": "python",
   "nbconvert_exporter": "python",
   "pygments_lexer": "ipython3",
   "version": "3.11.4"
  }
 },
 "nbformat": 4,
 "nbformat_minor": 5
}
